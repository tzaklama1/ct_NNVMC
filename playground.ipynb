{
 "cells": [
  {
   "cell_type": "code",
   "execution_count": 1,
   "metadata": {},
   "outputs": [],
   "source": [
    "# wavefunction.py\n",
    "\"\"\"\n",
    "Trains the Lattice-PsiFormer for a *single* (t,V) pair on synthetic targets,\n",
    "then prints the first 10 complex coefficients ψ(n; t,V).\n",
    "\n",
    "Swap OCC/TARGET with your exact-diagonalisation data for real physics runs.\n",
    "\"\"\"\n",
    "import jax, jax.numpy as jnp"
   ]
  },
  {
   "cell_type": "code",
   "execution_count": null,
   "metadata": {},
   "outputs": [
    {
     "name": "stdout",
     "output_type": "stream",
     "text": [
      "Detected JAX backend → CPU with 1 device(s)\n",
      "epoch    0 | MSE = 8.289e-01\n"
     ]
    }
   ],
   "source": [
    "from train import (                      # all imported from your existing code\n",
    "    OCC,                    # (H, N_sites)  integer array of Fock states\n",
    "    create_state,           # helper that initialises model & optimiser\n",
    "    train_step,             # one SGD step (jit-compiled)\n",
    "    mse_fn,                 # MSE loss helper\n",
    "    model                   # the LatticePsiFormer instance\n",
    ")\n",
    "\n",
    "print(\"Detected JAX backend →\", jax.default_backend().upper(),\n",
    "      \"with\", len(jax.devices()), \"device(s)\")\n",
    "\n",
    "# -------- training set: choose a (t,V) and build batch ----------------------\n",
    "t, V = 0.5, 4.0\n",
    "TV_BATCH = jnp.tile(jnp.array([t, V], dtype=jnp.float32), (OCC.shape[0], 1))\n",
    "\n",
    "# synthetic target coefficients (Re, Im)  –– replace with ED data\n",
    "key    = jax.random.PRNGKey(123)\n",
    "TARGET = jax.random.normal(key, (OCC.shape[0], 2)) * 0.1\n",
    "\n",
    "# -------- quick training ----------------------------------------------------\n",
    "state = create_state(jax.random.PRNGKey(0))\n",
    "\n",
    "for epoch in range(1200):                \n",
    "    state, loss = train_step(state, OCC, TV_BATCH, TARGET)\n",
    "    if epoch % 300 == 0:\n",
    "        print(f\"epoch {epoch:4d} | MSE = {loss:.3e}\")\n",
    "\n",
    "# -------- wave-function output ---------------------------------------------\n",
    "coeffs = model.apply(state.params, OCC, TV_BATCH, train=False)  # (H, 2)\n",
    "print(\"\\nFirst 10 coefficients for (t,V)=(\", t, \",\", V, \"):\")\n",
    "for i in range(10):\n",
    "    n_str = ''.join(str(int(b)) for b in OCC[i])\n",
    "    re, im = map(float, coeffs[i])\n",
    "    print(f\"|{n_str}⟩  →  {re:+.5f}  {im:+.5f} i\")\n"
   ]
  }
 ],
 "metadata": {
  "kernelspec": {
   "display_name": "cotrain_env",
   "language": "python",
   "name": "python3"
  },
  "language_info": {
   "codemirror_mode": {
    "name": "ipython",
    "version": 3
   },
   "file_extension": ".py",
   "mimetype": "text/x-python",
   "name": "python",
   "nbconvert_exporter": "python",
   "pygments_lexer": "ipython3",
   "version": "3.11.11"
  }
 },
 "nbformat": 4,
 "nbformat_minor": 2
}
