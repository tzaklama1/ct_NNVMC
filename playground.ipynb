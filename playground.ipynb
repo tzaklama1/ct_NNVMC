{
 "cells": [
  {
   "cell_type": "code",
   "execution_count": 1,
   "metadata": {},
   "outputs": [],
   "source": [
    "# wavefunction.py\n",
    "\"\"\"\n",
    "Trains the Lattice-PsiFormer for a *single* (t,V) pair on synthetic targets,\n",
    "then prints the first 10 complex coefficients ψ(n; t,V).\n",
    "\n",
    "Swap OCC/TARGET with your exact-diagonalisation data for real physics runs.\n",
    "\"\"\"\n",
    "import jax, jax.numpy as jnp"
   ]
  },
  {
   "cell_type": "code",
   "execution_count": 2,
   "metadata": {},
   "outputs": [
    {
     "name": "stdout",
     "output_type": "stream",
     "text": [
      "Detected JAX backend → CPU with 1 device(s)\n",
      "epoch    0 | MSE = 9.984e-01\n",
      "epoch  300 | MSE = 7.962e-01\n",
      "epoch  600 | MSE = 9.956e-01\n",
      "epoch  900 | MSE = 8.566e-01\n",
      "\n",
      "First 10 coefficients for (t,V)=( 0.5 , 4.0 ):\n",
      "|1111100000⟩  →  +0.78708  +7.96918 i\n",
      "|1111010000⟩  →  +1.64936  +4.33142 i\n",
      "|1111001000⟩  →  -2.59221  -1.57305 i\n",
      "|1111000100⟩  →  -11.15819  +3.05209 i\n",
      "|1111000010⟩  →  -0.65483  -4.02020 i\n",
      "|1111000001⟩  →  +3.58885  +4.49224 i\n",
      "|1110110000⟩  →  -2.93802  -1.41375 i\n",
      "|1110101000⟩  →  -3.81637  -0.89691 i\n",
      "|1110100100⟩  →  -7.02246  +0.06303 i\n",
      "|1110100010⟩  →  +3.34094  +2.98012 i\n"
     ]
    }
   ],
   "source": [
    "# Example output, takes about 5 min to run\n",
    "from train import (                     \n",
    "    OCC,                    # (H, N_sites)  integer array of Fock states\n",
    "    create_state,           # helper that initialises model & optimiser\n",
    "    train_step,             # one SGD step (jit-compiled)\n",
    "    model                   # the LatticePsiFormer instance\n",
    ")\n",
    "\n",
    "print(\"Detected JAX backend →\", jax.default_backend().upper(),\n",
    "      \"with\", len(jax.devices()), \"device(s)\")\n",
    "\n",
    "# -------- training set: choose a (t,V) and build batch ----------------------\n",
    "t, V = 0.5, 4.0\n",
    "TV_BATCH = jnp.tile(jnp.array([t, V], dtype=jnp.float32), (OCC.shape[0], 1))\n",
    "\n",
    "# synthetic target coefficients (Re, Im)  –– replace with ED data\n",
    "key    = jax.random.PRNGKey(123)\n",
    "TARGET = jax.random.normal(key, (OCC.shape[0], 2)) * 0.1\n",
    "\n",
    "# -------- quick training ----------------------------------------------------\n",
    "state = create_state(jax.random.PRNGKey(0))\n",
    "\n",
    "for epoch in range(1200):                \n",
    "    state, loss = train_step(state, OCC, TV_BATCH, TARGET)\n",
    "    if epoch % 300 == 0:\n",
    "        print(f\"epoch {epoch:4d} | MSE = {loss:.3e}\")\n",
    "\n",
    "# -------- wave-function output ---------------------------------------------\n",
    "coeffs = model.apply(state.params, OCC, TV_BATCH, train=False)  # (H, 2)\n",
    "print(\"\\nFirst 10 coefficients for (t,V)=(\", t, \",\", V, \"):\")\n",
    "for i in range(10):\n",
    "    n_str = ''.join(str(int(b)) for b in OCC[i])\n",
    "    re, im = map(float, coeffs[i])\n",
    "    print(f\"|{n_str}⟩  →  {re:+.5f}  {im:+.5f} i\")\n"
   ]
  },
  {
   "cell_type": "code",
   "execution_count": null,
   "metadata": {},
   "outputs": [],
   "source": []
  }
 ],
 "metadata": {
  "kernelspec": {
   "display_name": "cotrain_env",
   "language": "python",
   "name": "python3"
  },
  "language_info": {
   "codemirror_mode": {
    "name": "ipython",
    "version": 3
   },
   "file_extension": ".py",
   "mimetype": "text/x-python",
   "name": "python",
   "nbconvert_exporter": "python",
   "pygments_lexer": "ipython3",
   "version": "3.11.11"
  }
 },
 "nbformat": 4,
 "nbformat_minor": 2
}
